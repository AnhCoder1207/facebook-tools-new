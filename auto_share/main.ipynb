{
 "cells": [
  {
   "cell_type": "code",
   "execution_count": 1,
   "id": "e4f1dad0",
   "metadata": {},
   "outputs": [],
   "source": [
    "import pyautogui\n",
    "import time\n",
    "import pytesseract\n",
    "import random\n",
    "from utils import click_to, click_many, check_exist, paste_text, typeing_text, waiting_for, deciscion"
   ]
  },
  {
   "cell_type": "code",
   "execution_count": 179,
   "id": "411edf6b",
   "metadata": {},
   "outputs": [],
   "source": [
    "time.sleep(2)\n",
    "pyautogui.hotkey('winleft', 'd')"
   ]
  },
  {
   "cell_type": "code",
   "execution_count": 180,
   "id": "040fc011",
   "metadata": {},
   "outputs": [],
   "source": [
    "def get_title():\n",
    "    with open(\"title.txt\") as file:\n",
    "        lines = [line.strip() for line in file.readlines() if line.strip() != \"\"]\n",
    "        return random.choice(lines)\n",
    "\n",
    "def relative_position(x, y):\n",
    "    default_width = 1920\n",
    "    default_height = 1080\n",
    "    ratio_x = x/default_width\n",
    "    ratio_y = y/default_height\n",
    "    width, height = pyautogui.size()\n",
    "    return int(ratio_x*width), int(ratio_y*height)"
   ]
  },
  {
   "cell_type": "code",
   "execution_count": 181,
   "id": "c8bf156c",
   "metadata": {},
   "outputs": [],
   "source": [
    "# pyautogui.screenshot(region=(0, 1040, 1920, 40))"
   ]
  },
  {
   "cell_type": "code",
   "execution_count": 198,
   "id": "5b2119e0",
   "metadata": {},
   "outputs": [
    {
     "data": {
      "text/plain": [
       "Point(x=1525, y=894)"
      ]
     },
     "execution_count": 198,
     "metadata": {},
     "output_type": "execute_result"
    }
   ],
   "source": [
    "time.sleep(2)\n",
    "pyautogui.position()"
   ]
  },
  {
   "cell_type": "code",
   "execution_count": 291,
   "id": "3c5d8eb6",
   "metadata": {},
   "outputs": [
    {
     "name": "stderr",
     "output_type": "stream",
     "text": [
      "2021-06-19 02:05:55,242 - application - DEBUG - Waiting for playbtn.PNG\n"
     ]
    }
   ],
   "source": [
    "pyautogui.moveTo(waiting_for(\"playbtn.PNG\", confidence=0.8))"
   ]
  },
  {
   "cell_type": "code",
   "execution_count": 288,
   "id": "aa300ecb",
   "metadata": {},
   "outputs": [],
   "source": [
    "time.sleep(2)\n",
    "pyautogui.hotkey('winleft', 'd')\n",
    "browsers = pyautogui.locateAllOnScreen(f\"btn/coccoc.PNG\", confidence=0.9, region=(0, 1040, 1920, 40))\n",
    "for btn in browsers:\n",
    "    pyautogui.moveTo(btn)\n",
    "    pyautogui.click(btn)\n",
    "    time.sleep(1)"
   ]
  },
  {
   "cell_type": "code",
   "execution_count": 277,
   "id": "531b71bc",
   "metadata": {
    "scrolled": true
   },
   "outputs": [
    {
     "name": "stderr",
     "output_type": "stream",
     "text": [
      "2021-06-19 00:35:31,379 - application - DEBUG - Waiting for dark_logo.PNG\n",
      "2021-06-19 00:35:32,515 - application - DEBUG - Waiting for share_btn.PNG\n"
     ]
    },
    {
     "data": {
      "text/plain": [
       "(526, 835)"
      ]
     },
     "execution_count": 277,
     "metadata": {},
     "output_type": "execute_result"
    }
   ],
   "source": [
    "pyautogui.click(relative_position(200, 54), duration=2)\n",
    "paste_text(\"fb.com/182130163924486\")\n",
    "pyautogui.hotkey('enter')\n",
    "time.sleep(2)\n",
    "waiting_for(\"dark_logo.PNG\", confidence=0.9)\n",
    "waiting_for(\"share_btn.PNG\", confidence=0.9)\n",
    "# time.sleep()"
   ]
  },
  {
   "cell_type": "code",
   "execution_count": 280,
   "id": "d5436837",
   "metadata": {},
   "outputs": [
    {
     "name": "stderr",
     "output_type": "stream",
     "text": [
      "2021-06-19 00:36:28,136 - application - DEBUG - Click to share_btn.PNG\n"
     ]
    }
   ],
   "source": [
    "click_to(\"share_btn.PNG\", confidence=0.9, interval=2)"
   ]
  },
  {
   "cell_type": "code",
   "execution_count": 281,
   "id": "88f548cd",
   "metadata": {
    "scrolled": true
   },
   "outputs": [
    {
     "name": "stderr",
     "output_type": "stream",
     "text": [
      "2021-06-19 00:36:31,320 - application - DEBUG - Click to options.PNG\n"
     ]
    }
   ],
   "source": [
    "click_to(\"options.PNG\", confidence=0.9, interval=2)"
   ]
  },
  {
   "cell_type": "code",
   "execution_count": 282,
   "id": "7726f798",
   "metadata": {},
   "outputs": [
    {
     "name": "stderr",
     "output_type": "stream",
     "text": [
      "2021-06-19 00:36:34,559 - application - DEBUG - Click to share_to_group.PNG\n"
     ]
    }
   ],
   "source": [
    "click_to(\"share_to_group.PNG\", confidence=0.9, interval=2)"
   ]
  },
  {
   "cell_type": "code",
   "execution_count": null,
   "id": "1760bd2e",
   "metadata": {},
   "outputs": [],
   "source": []
  },
  {
   "cell_type": "code",
   "execution_count": 283,
   "id": "7ea8d700",
   "metadata": {},
   "outputs": [],
   "source": [
    "pyautogui.moveTo(relative_position(1027, 549), duration=1)\n",
    "share_box_x, share_box_y = relative_position(x=707, y=378)\n",
    "relative_w, relative_h = relative_position(x=1525, y=894)\n",
    "if random.choice([0, 1]) == 0:\n",
    "    pyautogui.scroll(-200)\n",
    "\n",
    "btns = pyautogui.locateAllOnScreen(f\"btn/public_group.PNG\", confidence=0.8, region=(share_box_x, share_box_y, relative_w, relative_h))\n",
    "btns = list(btns)\n",
    "btn = random.choice(btns)\n",
    "pyautogui.click(btn, duration=1)"
   ]
  },
  {
   "cell_type": "code",
   "execution_count": 285,
   "id": "8752e1e2",
   "metadata": {
    "scrolled": true
   },
   "outputs": [
    {
     "name": "stderr",
     "output_type": "stream",
     "text": [
      "2021-06-19 00:37:01,401 - application - DEBUG - Waiting for post.PNG\n",
      "2021-06-19 00:37:01,616 - application - DEBUG - Click to create_public_post.PNG\n",
      "2021-06-19 00:37:09,980 - application - DEBUG - Waiting for post_success.PNG\n"
     ]
    }
   ],
   "source": [
    "post_btn = waiting_for(\"post.PNG\", confidence=0.9, waiting_time=20)\n",
    "if post_btn:\n",
    "    click_to(\"create_public_post.PNG\", confidence=0.8)\n",
    "    pyautogui.click(relative_position(x=819, y=350), duration=2)\n",
    "    title = get_title()\n",
    "    paste_text(title)\n",
    "    pyautogui.click(post_btn, duration=2)\n",
    "    waiting_for(\"post_success.PNG\", confidence=0.9)"
   ]
  },
  {
   "cell_type": "code",
   "execution_count": 343,
   "id": "fac20f8a",
   "metadata": {},
   "outputs": [
    {
     "name": "stdout",
     "output_type": "stream",
     "text": [
      "The best recognition in the world of the creative in wood crafting\n"
     ]
    }
   ],
   "source": [
    "with open(\"title.txt\") as file:\n",
    "    lines = [line.strip() for line in file.readlines() if line.strip() != \"\"]\n",
    "    print(random.choice(lines))"
   ]
  },
  {
   "cell_type": "code",
   "execution_count": 61,
   "id": "80ea5d9f",
   "metadata": {},
   "outputs": [],
   "source": [
    "groups = pyautogui.locateAllOnScreen(f\"btn/public_group.PNG\", confidence=0.7)\n",
    "groups = list(groups)\n",
    "group = random.choice(groups)"
   ]
  },
  {
   "cell_type": "code",
   "execution_count": 62,
   "id": "43da4568",
   "metadata": {},
   "outputs": [
    {
     "data": {
      "text/plain": [
       "'inventos caseros'"
      ]
     },
     "execution_count": 62,
     "metadata": {},
     "output_type": "execute_result"
    }
   ],
   "source": [
    "left, top, width, height = group\n",
    "img = pyautogui.screenshot(region=(left-625, top-5, width+600, height-8))\n",
    "pytesseract.image_to_string(img).strip()"
   ]
  },
  {
   "cell_type": "code",
   "execution_count": 54,
   "id": "5e20eebc",
   "metadata": {},
   "outputs": [],
   "source": []
  },
  {
   "cell_type": "code",
   "execution_count": 55,
   "id": "3b7c6396",
   "metadata": {},
   "outputs": [
    {
     "data": {
      "image/png": "[encoded data removed]",
      "text/plain": [
       "<PIL.Image.Image image mode=RGB size=629x24 at 0x1CD5814B808>"
      ]
     },
     "execution_count": 55,
     "metadata": {},
     "output_type": "execute_result"
    }
   ],
   "source": [
    "img"
   ]
  },
  {
   "cell_type": "code",
   "execution_count": 56,
   "id": "bec4fe5e",
   "metadata": {},
   "outputs": [
    {
     "data": {
      "text/plain": [
       "''"
      ]
     },
     "execution_count": 56,
     "metadata": {},
     "output_type": "execute_result"
    }
   ],
   "source": []
  },
  {
   "cell_type": "code",
   "execution_count": null,
   "id": "533fdb20",
   "metadata": {},
   "outputs": [],
   "source": []
  }
 ],
 "metadata": {
  "kernelspec": {
   "display_name": "Python 3",
   "language": "python",
   "name": "python3"
  },
  "language_info": {
   "codemirror_mode": {
    "name": "ipython",
    "version": 3
   },
   "file_extension": ".py",
   "mimetype": "text/x-python",
   "name": "python",
   "nbconvert_exporter": "python",
   "pygments_lexer": "ipython3",
   "version": "3.7.10"
  }
 },
 "nbformat": 4,
 "nbformat_minor": 5
}
